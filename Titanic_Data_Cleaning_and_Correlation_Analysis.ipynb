{
  "nbformat": 4,
  "nbformat_minor": 0,
  "metadata": {
    "colab": {
      "private_outputs": true,
      "provenance": []
    },
    "kernelspec": {
      "name": "python3",
      "display_name": "Python 3"
    },
    "language_info": {
      "name": "python"
    }
  },
  "cells": [
    {
      "cell_type": "code",
      "execution_count": null,
      "metadata": {
        "id": "l0SJ9icd1Uoj"
      },
      "outputs": [],
      "source": [
        "import pandas as pd\n",
        "\n",
        "# Load the CSV files\n",
        "train_df = pd.read_csv('train.csv')\n",
        "test_df = pd.read_csv('test.csv')\n",
        "gender_submission_df = pd.read_csv('gender_submission.csv')\n",
        "\n",
        "# Display the first few rows of each dataframe\n",
        "print(\"Train DataFrame:\")\n",
        "print(train_df.head())\n",
        "print(\"\\nTest DataFrame:\")\n",
        "print(test_df.head())\n",
        "print(\"\\nGender Submission DataFrame:\")\n",
        "print(gender_submission_df.head())\n"
      ]
    },
    {
      "cell_type": "code",
      "source": [
        "# Check for missing values in train and test data\n",
        "print(\"Missing values in Train DataFrame:\")\n",
        "print(train_df.isnull().sum())\n",
        "\n",
        "print(\"\\nMissing values in Test DataFrame:\")\n",
        "print(test_df.isnull().sum())\n",
        "\n",
        "# Fill missing 'Age' values with the median\n",
        "train_df['Age'].fillna(train_df['Age'].median(), inplace=True)\n",
        "test_df['Age'].fillna(test_df['Age'].median(), inplace=True)\n",
        "\n",
        "# Fill missing 'Embarked' values with the mode\n",
        "train_df['Embarked'].fillna(train_df['Embarked'].mode()[0], inplace=True)\n"
      ],
      "metadata": {
        "id": "3ufue8G717qu"
      },
      "execution_count": null,
      "outputs": []
    },
    {
      "cell_type": "code",
      "source": [
        "import seaborn as sns\n",
        "import matplotlib.pyplot as plt\n",
        "\n",
        "# Plot the distribution of 'Age' in the train dataset\n",
        "sns.histplot(train_df['Age'], kde=True)\n",
        "plt.title('Age Distribution in Train Dataset')\n",
        "plt.xlabel('Age')\n",
        "plt.ylabel('Frequency')\n",
        "plt.show()\n"
      ],
      "metadata": {
        "id": "69tV6RyO2B2R"
      },
      "execution_count": null,
      "outputs": []
    },
    {
      "cell_type": "code",
      "source": [
        "# Plot the distribution of 'Fare' in the train dataset\n",
        "sns.histplot(train_df['Fare'], kde=True)\n",
        "plt.title('Fare Distribution in Train Dataset')\n",
        "plt.xlabel('Fare')\n",
        "plt.ylabel('Frequency')\n",
        "plt.show()\n"
      ],
      "metadata": {
        "id": "P-fqex6B2EdB"
      },
      "execution_count": null,
      "outputs": []
    },
    {
      "cell_type": "code",
      "source": [
        "# Plot survival rate by 'Sex'\n",
        "sns.barplot(x='Sex', y='Survived', data=train_df)\n",
        "plt.title('Survival Rate by Sex')\n",
        "plt.xlabel('Sex (0: Male, 1: Female)')\n",
        "plt.ylabel('Survival Rate')\n",
        "plt.show()\n"
      ],
      "metadata": {
        "id": "xyLI8kMj2Gwz"
      },
      "execution_count": null,
      "outputs": []
    },
    {
      "cell_type": "code",
      "source": [
        "# Plot survival rate by 'Pclass'\n",
        "sns.barplot(x='Pclass', y='Survived', data=train_df)\n",
        "plt.title('Survival Rate by Pclass')\n",
        "plt.xlabel('Pclass')\n",
        "plt.ylabel('Survival Rate')\n",
        "plt.show()\n"
      ],
      "metadata": {
        "id": "Vy7S-GUN2JzF"
      },
      "execution_count": null,
      "outputs": []
    },
    {
      "cell_type": "code",
      "source": [
        "# Check the data types of columns\n",
        "print(\"Data types of columns:\")\n",
        "print(train_df.dtypes)"
      ],
      "metadata": {
        "id": "ol43Tsxe32fL"
      },
      "execution_count": null,
      "outputs": []
    },
    {
      "cell_type": "code",
      "source": [
        "# Drop non-numeric columns that cannot be used in correlation analysis\n",
        "non_numeric_cols = ['Name', 'Ticket', 'Cabin', 'PassengerId']\n",
        "train_df_cleaned = train_df.drop(columns=non_numeric_cols, errors='ignore')\n",
        "\n",
        "# Convert categorical variables to numeric if necessary (example for 'Embarked')\n",
        "if 'Embarked' in train_df_cleaned.columns:\n",
        "    train_df_cleaned['Embarked'] = train_df_cleaned['Embarked'].map({'C': 0, 'Q': 1, 'S': 2})\n",
        "\n",
        "# Select only numeric columns\n",
        "numeric_cols = train_df_cleaned.select_dtypes(include=['number']).columns\n",
        "\n",
        "# Compute the correlation matrix\n",
        "corr = train_df_cleaned[numeric_cols].corr()\n",
        "\n",
        "# Plot the correlation heatmap\n",
        "plt.figure(figsize=(10, 8))\n",
        "sns.heatmap(corr, annot=True, cmap='coolwarm', fmt='.2f')\n",
        "plt.title('Correlation Heatmap')\n",
        "plt.show()\n"
      ],
      "metadata": {
        "id": "k_PE6yA22LxD"
      },
      "execution_count": null,
      "outputs": []
    },
    {
      "cell_type": "code",
      "source": [
        "# Scatter plot of 'Age' vs. 'Fare' colored by survival status\n",
        "sns.scatterplot(x='Age', y='Fare', hue='Survived', data=train_df, palette='coolwarm')\n",
        "plt.title('Age vs. Fare by Survival Status')\n",
        "plt.xlabel('Age')\n",
        "plt.ylabel('Fare')\n",
        "plt.show()\n"
      ],
      "metadata": {
        "id": "0HeRrTAz2S6I"
      },
      "execution_count": null,
      "outputs": []
    },
    {
      "cell_type": "code",
      "source": [],
      "metadata": {
        "id": "VYJJMYsi2gig"
      },
      "execution_count": null,
      "outputs": []
    }
  ]
}