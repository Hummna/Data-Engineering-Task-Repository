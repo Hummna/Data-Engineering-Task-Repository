{
  "nbformat": 4,
  "nbformat_minor": 0,
  "metadata": {
    "colab": {
      "provenance": []
    },
    "kernelspec": {
      "name": "python3",
      "display_name": "Python 3"
    },
    "language_info": {
      "name": "python"
    }
  },
  "cells": [
    {
      "cell_type": "markdown",
      "source": [
        "**Create a bar chart or histogram to visualize the distribution of a categorical or continuous variable, such as the distribution of ages or genders in a population.**"
      ],
      "metadata": {
        "id": "WmCPFspiagoo"
      }
    },
    {
      "cell_type": "code",
      "source": [
        "import pandas as pd\n",
        "import matplotlib.pyplot as plt\n",
        "\n",
        "# Loading the CSV file into a DataFrame\n",
        "df = pd.read_csv('age_gender.csv')\n",
        "\n",
        "# Checking the first few rows to ensure data is loaded correctly\n",
        "print(df.head())"
      ],
      "metadata": {
        "id": "UZasJ763STqF",
        "colab": {
          "base_uri": "https://localhost:8080/"
        },
        "outputId": "50042b6b-14f4-4fab-c00d-5c3cbe339bbc"
      },
      "execution_count": 52,
      "outputs": [
        {
          "output_type": "stream",
          "name": "stdout",
          "text": [
            "   age  ethnicity  gender                        img_name  \\\n",
            "0    1          2       0  20161219203650636.jpg.chip.jpg   \n",
            "1    1          2       0  20161219222752047.jpg.chip.jpg   \n",
            "2    1          2       0  20161219222832191.jpg.chip.jpg   \n",
            "3    1          2       0  20161220144911423.jpg.chip.jpg   \n",
            "4    1          2       0  20161220144914327.jpg.chip.jpg   \n",
            "\n",
            "                                              pixels  \n",
            "0  129 128 128 126 127 130 133 135 139 142 145 14...  \n",
            "1  164 74 111 168 169 171 175 182 184 188 193 199...  \n",
            "2  67 70 71 70 69 67 70 79 90 103 116 132 145 155...  \n",
            "3  193 197 198 200 199 200 202 203 204 205 208 21...  \n",
            "4  202 205 209 210 209 209 210 211 212 214 218 21...  \n"
          ]
        }
      ]
    },
    {
      "cell_type": "code",
      "source": [
        "# Mapping the numerical gender values to categorical labels\n",
        "df['gender'] = df['gender'].map({0: 'Male', 1: 'Female'})\n",
        "\n",
        "# Count occurrences of each gender\n",
        "gender_counts = df['gender'].value_counts()\n",
        "\n",
        "# Creating bar chart\n",
        "plt.bar(gender_counts.index, gender_counts.values, color=['skyblue', 'salmon'], edgecolor='black')\n",
        "\n",
        "# Adding titles and labels\n",
        "plt.title('Gender Distribution')\n",
        "plt.xlabel('Gender')\n",
        "plt.ylabel('Count')\n",
        "\n",
        "# Show the plot\n",
        "plt.show()"
      ],
      "metadata": {
        "colab": {
          "base_uri": "https://localhost:8080/",
          "height": 472
        },
        "id": "kqOWNO7yY87C",
        "outputId": "bcf25237-75ce-470a-d635-42df5aa7983e"
      },
      "execution_count": 53,
      "outputs": [
        {
          "output_type": "display_data",
          "data": {
            "text/plain": [
              "<Figure size 640x480 with 1 Axes>"
            ],
            "image/png": "[encoded data removed]"
          },
          "metadata": {}
        }
      ]
    },
    {
      "cell_type": "code",
      "source": [
        "import pandas as pd\n",
        "import matplotlib.pyplot as plt\n",
        "\n",
        "# Load the CSV file into a DataFrame\n",
        "df = pd.read_csv('age_gender.csv')\n",
        "\n",
        "# Extract the age column\n",
        "ages = df['age']\n",
        "\n",
        "# Print summary statistics to verify data\n",
        "print(\"Summary Statistics:\")\n",
        "print(ages.describe())\n"
      ],
      "metadata": {
        "colab": {
          "base_uri": "https://localhost:8080/"
        },
        "id": "HoAQWqmUbAvl",
        "outputId": "ab8b602f-638d-468b-9423-962e33a40df0"
      },
      "execution_count": 54,
      "outputs": [
        {
          "output_type": "stream",
          "name": "stdout",
          "text": [
            "Summary Statistics:\n",
            "count    23705.000000\n",
            "mean        33.300907\n",
            "std         19.885708\n",
            "min          1.000000\n",
            "25%         23.000000\n",
            "50%         29.000000\n",
            "75%         45.000000\n",
            "max        116.000000\n",
            "Name: age, dtype: float64\n"
          ]
        }
      ]
    },
    {
      "cell_type": "code",
      "source": [
        "# Check for specific values\n",
        "print(\"Values in the dataset:\")\n",
        "print(ages.value_counts())"
      ],
      "metadata": {
        "colab": {
          "base_uri": "https://localhost:8080/"
        },
        "id": "d_tGRYDreNTm",
        "outputId": "2c7215d4-9ab6-4bf0-95ab-e16a98ab164c"
      },
      "execution_count": 55,
      "outputs": [
        {
          "output_type": "stream",
          "name": "stdout",
          "text": [
            "Values in the dataset:\n",
            "age\n",
            "26     2197\n",
            "1      1123\n",
            "28      918\n",
            "35      880\n",
            "24      859\n",
            "       ... \n",
            "115       3\n",
            "101       2\n",
            "91        2\n",
            "111       1\n",
            "103       1\n",
            "Name: count, Length: 104, dtype: int64\n"
          ]
        }
      ]
    },
    {
      "cell_type": "code",
      "source": [
        "# Check for missing values\n",
        "print(\"Missing values in each column:\")\n",
        "print(df.isnull().sum())\n",
        "\n",
        "# Remove rows with missing age values if necessary\n",
        "df = df.dropna(subset=['age'])\n",
        "\n",
        "# Verify the number of rows after cleaning\n",
        "print(f\"Number of rows after removing missing values: {len(df)}\")\n",
        "\n",
        "# Check for duplicate rows\n",
        "print(f\"Number of duplicate rows: {df.duplicated().sum()}\")\n",
        "\n",
        "# Remove duplicates if necessary\n",
        "df = df.drop_duplicates()\n",
        "\n",
        "# Verify the number of rows after removing duplicates\n",
        "print(f\"Number of rows after removing duplicates: {len(df)}\")"
      ],
      "metadata": {
        "colab": {
          "base_uri": "https://localhost:8080/"
        },
        "id": "ilt1JJQkbtVC",
        "outputId": "18ddfe20-e937-41db-a276-8d4eb018a73c"
      },
      "execution_count": 56,
      "outputs": [
        {
          "output_type": "stream",
          "name": "stdout",
          "text": [
            "Missing values in each column:\n",
            "age          0\n",
            "ethnicity    0\n",
            "gender       0\n",
            "img_name     0\n",
            "pixels       0\n",
            "dtype: int64\n",
            "Number of rows after removing missing values: 23705\n",
            "Number of duplicate rows: 0\n",
            "Number of rows after removing duplicates: 23705\n"
          ]
        }
      ]
    },
    {
      "cell_type": "code",
      "source": [
        "import os\n",
        "\n",
        "# Load the CSV file into a DataFrame\n",
        "file_path = 'age_gender.csv'\n",
        "df = pd.read_csv(file_path)\n",
        "\n",
        "# Verify file path\n",
        "print(f\"File Path: {os.path.abspath(file_path)}\")\n",
        "\n",
        "# Check the DataFrame shape and first few rows\n",
        "print(f\"DataFrame Shape: {df.shape}\")\n",
        "print(df.head())\n",
        "\n",
        "# Check unique values and summary statistics for 'age'\n",
        "print(\"Unique values in 'age' column:\")\n",
        "print(df['age'].unique())"
      ],
      "metadata": {
        "colab": {
          "base_uri": "https://localhost:8080/"
        },
        "id": "GY12H_Nmc20z",
        "outputId": "ff2d955f-dc8b-4b01-d2ac-0e20dd85d2bf"
      },
      "execution_count": 57,
      "outputs": [
        {
          "output_type": "stream",
          "name": "stdout",
          "text": [
            "File Path: /content/age_gender.csv\n",
            "DataFrame Shape: (23705, 5)\n",
            "   age  ethnicity  gender                        img_name  \\\n",
            "0    1          2       0  20161219203650636.jpg.chip.jpg   \n",
            "1    1          2       0  20161219222752047.jpg.chip.jpg   \n",
            "2    1          2       0  20161219222832191.jpg.chip.jpg   \n",
            "3    1          2       0  20161220144911423.jpg.chip.jpg   \n",
            "4    1          2       0  20161220144914327.jpg.chip.jpg   \n",
            "\n",
            "                                              pixels  \n",
            "0  129 128 128 126 127 130 133 135 139 142 145 14...  \n",
            "1  164 74 111 168 169 171 175 182 184 188 193 199...  \n",
            "2  67 70 71 70 69 67 70 79 90 103 116 132 145 155...  \n",
            "3  193 197 198 200 199 200 202 203 204 205 208 21...  \n",
            "4  202 205 209 210 209 209 210 211 212 214 218 21...  \n",
            "Unique values in 'age' column:\n",
            "[  1  10 100 101 103 105  11 110 111 115 116  12  13  14  15  16  17  18\n",
            "  19   2  20  21  22  23  24  25  26  27  28  29   3  30  31  32  33  34\n",
            "  35  36  37  38  39   4  40  41  42  43  44  45  46  47  48  49   5  50\n",
            "  51  52  53  54  55  56  57  58  59   6  60  61  62  63  64  65  66  67\n",
            "  68  69   7  70  71  72  73  74  75  76  77  78  79   8  80  81  82  83\n",
            "  84  85  86  87  88  89   9  90  91  92  93  95  96  99]\n"
          ]
        }
      ]
    },
    {
      "cell_type": "code",
      "source": [
        "# Plot histogram\n",
        "ages = df['age']\n",
        "plt.hist(ages, bins=range(1, 101), edgecolor='black', alpha=0.7)\n",
        "plt.title('Age Distribution')\n",
        "plt.xlabel('Age')\n",
        "plt.ylabel('Frequency')\n",
        "plt.show()"
      ],
      "metadata": {
        "colab": {
          "base_uri": "https://localhost:8080/",
          "height": 472
        },
        "id": "2sAUtF1RdTgH",
        "outputId": "a2524bf0-1863-422f-cab4-5100e9fad8f8"
      },
      "execution_count": 58,
      "outputs": [
        {
          "output_type": "display_data",
          "data": {
            "text/plain": [
              "<Figure size 640x480 with 1 Axes>"
            ],
            "image/png": "[encoded data removed]"
          },
          "metadata": {}
        }
      ]
    },
    {
      "cell_type": "code",
      "source": [],
      "metadata": {
        "id": "Or_SnxDPdoJa"
      },
      "execution_count": null,
      "outputs": []
    }
  ]
}